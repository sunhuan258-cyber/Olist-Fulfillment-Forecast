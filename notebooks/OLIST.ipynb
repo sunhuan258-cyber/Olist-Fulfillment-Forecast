{
 "cells": [
  {
   "cell_type": "code",
   "execution_count": 1,
   "id": "d934235e-ebf5-41c4-a5f6-7ca3815c3201",
   "metadata": {},
   "outputs": [
    {
     "name": "stdout",
     "output_type": "stream",
     "text": [
      "--- “数据泰坦”已成功，载入“新的战场”！ ---\n",
      "当前维度: (118434, 40)\n",
      "<class 'pandas.core.frame.DataFrame'>\n",
      "RangeIndex: 118434 entries, 0 to 118433\n",
      "Data columns (total 40 columns):\n",
      " #   Column                                Non-Null Count   Dtype         \n",
      "---  ------                                --------------   -----         \n",
      " 0   order_id                              118434 non-null  object        \n",
      " 1   customer_id                           118434 non-null  object        \n",
      " 2   order_status                          118434 non-null  object        \n",
      " 3   order_purchase_timestamp              118434 non-null  datetime64[ns]\n",
      " 4   order_approved_at                     118258 non-null  datetime64[ns]\n",
      " 5   order_delivered_carrier_date          116360 non-null  datetime64[ns]\n",
      " 6   order_delivered_customer_date         115037 non-null  datetime64[ns]\n",
      " 7   order_estimated_delivery_date         118434 non-null  object        \n",
      " 8   payment_sequential                    118431 non-null  object        \n",
      " 9   payment_type                          118431 non-null  object        \n",
      " 10  payment_installments                  118431 non-null  object        \n",
      " 11  payment_value                         118431 non-null  float64       \n",
      " 12  order_item_id                         117604 non-null  float64       \n",
      " 13  product_id                            117604 non-null  object        \n",
      " 14  seller_id                             117604 non-null  object        \n",
      " 15  shipping_limit_date                   117604 non-null  datetime64[ns]\n",
      " 16  price                                 117604 non-null  float64       \n",
      " 17  freight_value                         117604 non-null  float64       \n",
      " 18  customer_unique_id                    118434 non-null  object        \n",
      " 19  customer_zip_code_prefix              118434 non-null  object        \n",
      " 20  customer_city                         118434 non-null  object        \n",
      " 21  customer_state                        118434 non-null  object        \n",
      " 22  product_category_name                 115906 non-null  object        \n",
      " 23  product_name_lenght                   115906 non-null  float64       \n",
      " 24  product_description_lenght            115906 non-null  float64       \n",
      " 25  product_photos_qty                    115906 non-null  float64       \n",
      " 26  product_weight_g                      117584 non-null  float64       \n",
      " 27  product_length_cm                     117584 non-null  float64       \n",
      " 28  product_height_cm                     117584 non-null  float64       \n",
      " 29  product_width_cm                      117584 non-null  float64       \n",
      " 30  seller_zip_code_prefix                117604 non-null  object        \n",
      " 31  seller_city                           117604 non-null  object        \n",
      " 32  seller_state                          117604 non-null  object        \n",
      " 33  product_category_name_english         115881 non-null  object        \n",
      " 34  geolocation_zip_code_prefix_customer  118117 non-null  float64       \n",
      " 35  geolocation_lat_customer              118117 non-null  float64       \n",
      " 36  geolocation_lng_customer              118117 non-null  float64       \n",
      " 37  geolocation_zip_code_prefix_seller    117343 non-null  float64       \n",
      " 38  geolocation_lat_seller                117343 non-null  float64       \n",
      " 39  geolocation_lng_seller                117343 non-null  float64       \n",
      "dtypes: datetime64[ns](5), float64(17), object(18)\n",
      "memory usage: 36.1+ MB\n"
     ]
    }
   ],
   "source": [
    "import pandas as pd\n",
    "final_dataset_path =\"C:\\\\Users\\\\Administrator\\\\Desktop\\\\OLIST!\\\\olist_final_analysis_dataset.csv\"\n",
    "df_final = pd.read_csv(\n",
    "    final_dataset_path,\n",
    "    parse_dates=[\n",
    "        'order_purchase_timestamp',\n",
    "        'order_approved_at',\n",
    "        'order_delivered_carrier_date',\n",
    "        'order_delivered_customer_date',\n",
    "        'shipping_limit_date'],\n",
    "    dtype={\n",
    "        'customer_zip_code_prefix': 'object',\n",
    "        'seller_zip_code_prefix': 'object',\n",
    "        'payment_sequential': 'object',\n",
    "        'payment_installments': 'object',})\n",
    "print(\"--- “数据泰坦”已成功，载入“新的战场”！ ---\")\n",
    "print(f\"当前维度: {df_final.shape}\")\n",
    "df_final.info()"
   ]
  },
  {
   "cell_type": "code",
   "execution_count": 2,
   "id": "5255cdb0-91f8-4e4b-be74-f29ba48a5b3e",
   "metadata": {},
   "outputs": [
    {
     "name": "stdout",
     "output_type": "stream",
     "text": [
      "清洗前，我们的舰队总规模为: 118434 行\n",
      "清洗后，我们的核心主力舰队规模为: 115030 行\n",
      "\n",
      "清洗后，订单状态分布情况:\n",
      "order_status\n",
      "delivered    115030\n",
      "Name: count, dtype: int64\n"
     ]
    }
   ],
   "source": [
    "print(f\"清洗前，我们的舰队总规模为: {len(df_final)} 行\")\n",
    "df_cleaned = df_final[df_final['order_status'] == 'delivered'].copy()\n",
    "df_cleaned.dropna(subset=['order_delivered_customer_date'], inplace=True)\n",
    "print(f\"清洗后，我们的核心主力舰队规模为: {len(df_cleaned)} 行\")\n",
    "print(\"\\n清洗后，订单状态分布情况:\")\n",
    "print(df_cleaned['order_status'].value_counts())"
   ]
  },
  {
   "cell_type": "code",
   "execution_count": 3,
   "id": "b3d0b225-aa06-412b-b00b-ecbaaa578b0f",
   "metadata": {},
   "outputs": [
    {
     "name": "stdout",
     "output_type": "stream",
     "text": [
      "--- “时间特征”(终极版)已成功创造并装载！ ---\n",
      "       total_wait_time  payment_processing_time  seller_dispatch_time  \\\n",
      "count    115030.000000            115015.000000         115014.000000   \n",
      "mean         12.484484                 0.434623              2.848934   \n",
      "std           9.455074                 0.872448              3.585229   \n",
      "min           0.533414                 0.000000           -171.219005   \n",
      "25%           6.748252                 0.008993              0.885035   \n",
      "50%          10.196956                 0.014444              1.842373   \n",
      "75%          15.544230                 0.621626              3.640055   \n",
      "max         209.628611                30.893484            125.762569   \n",
      "\n",
      "       carrier_delivery_time  \n",
      "count          115029.000000  \n",
      "mean                9.200396  \n",
      "std                 8.638785  \n",
      "min               -16.096169  \n",
      "25%                 4.063727  \n",
      "50%                 7.062257  \n",
      "75%                11.927234  \n",
      "max               205.190972  \n"
     ]
    }
   ],
   "source": [
    "#客户感知的“总等待时长”（单位：天\n",
    "df_cleaned['total_wait_time'] = (df_cleaned['order_delivered_customer_date'] - df_cleaned[\n",
    "    'order_purchase_timestamp']).dt.total_seconds() / (24 * 3600)\n",
    "## 特征X1: 支付确认时长（单位：天）\n",
    "df_cleaned['payment_processing_time'] = (df_cleaned['order_approved_at'] - df_cleaned[\n",
    "    'order_purchase_timestamp']).dt.total_seconds() / (24 * 3600)\n",
    "#特征X2: 卖家发货时长（单位：天）\n",
    "df_cleaned['seller_dispatch_time'] = (df_cleaned['order_delivered_carrier_date'] - df_cleaned[\n",
    "    'order_approved_at']).dt.total_seconds() / (24 * 3600)\n",
    "## 特征X3: 物流运输时长（单位：天）\n",
    "df_cleaned['carrier_delivery_time'] = (df_cleaned['order_delivered_customer_date'] - df_cleaned[\n",
    "    'order_delivered_carrier_date']).dt.total_seconds() / (24 * 3600)\n",
    "# 创造“时间模式特征”\n",
    "df_cleaned['purchase_month'] = df_cleaned['order_purchase_timestamp'].dt.month\n",
    "df_cleaned['purchase_day_of_week'] = df_cleaned['order_purchase_timestamp'].dt.dayofweek\n",
    "df_cleaned['purchase_hour'] = df_cleaned['order_purchase_timestamp'].dt.hour\n",
    "print(\"--- “时间特征”(终极版)已成功创造并装载！ ---\")\n",
    "print(df_cleaned[[\n",
    "    'total_wait_time',\n",
    "    'payment_processing_time',\n",
    "    'seller_dispatch_time',\n",
    "    'carrier_delivery_time']].describe())"
   ]
  },
  {
   "cell_type": "code",
   "execution_count": 4,
   "id": "b1934ce8-b36f-43c0-9172-2fd1e6157a47",
   "metadata": {},
   "outputs": [
    {
     "name": "stdout",
     "output_type": "stream",
     "text": [
      "--- “空间特征”已成功，创造并装载！ ---\n",
      "  customer_state seller_state  is_same_state  distance_km\n",
      "0             SP           SP              1    18.576110\n",
      "1             SP           SP              1    18.576110\n",
      "2             SP           SP              1    18.576110\n",
      "3             BA           SP              0   851.495069\n",
      "4             GO           SP              0   514.410666\n",
      "\n",
      "新特征的统计摘要:\n",
      "         distance_km  is_same_state\n",
      "count  114476.000000  115030.000000\n",
      "mean      596.865139       0.360993\n",
      "std       588.425951       0.480291\n",
      "min         0.000000       0.000000\n",
      "25%       187.957386       0.000000\n",
      "50%       432.208957       0.000000\n",
      "75%       791.960222       1.000000\n",
      "max      8677.911622       1.000000\n"
     ]
    }
   ],
   "source": [
    "import numpy as np\n",
    "def haversine_distance(lat1, lon1, lat2, lon2):\n",
    "    lat1, lon1, lat2, lon2 = map(np.radians, [lat1, lon1, lat2, lon2])\n",
    "    dlon = lon2 - lon1\n",
    "    dlat = lat2 - lat1\n",
    "    a = np.sin(dlat/2.0)**2 + np.cos(lat1) * np.cos(lat2) * np.sin(dlon/2.0)**2\n",
    "    c = 2 * np.arcsin(np.sqrt(a))\n",
    "    r = 6371\n",
    "    return c * r\n",
    "df_cleaned['distance_km'] = haversine_distance(\n",
    "    df_cleaned['geolocation_lat_customer'],\n",
    "    df_cleaned['geolocation_lng_customer'],\n",
    "    df_cleaned['geolocation_lat_seller'],\n",
    "    df_cleaned['geolocation_lng_seller'])\n",
    "df_cleaned['is_same_state'] = np.where(df_cleaned['customer_state'] == df_cleaned['seller_state'], 1, 0)\n",
    "print(\"--- “空间特征”已成功，创造并装载！ ---\")\n",
    "print(df_cleaned[[\n",
    "    'customer_state',\n",
    "    'seller_state',\n",
    "    'is_same_state',\n",
    "    'distance_km']].head())\n",
    "print(\"\\n新特征的统计摘要:\")\n",
    "print(df_cleaned[['distance_km', 'is_same_state']].describe())"
   ]
  },
  {
   "cell_type": "markdown",
   "id": "3f3366d9-5f0a-45b3-9296-720fe678703d",
   "metadata": {},
   "source": [
    "通过对买家与卖家地理位置的量化与分析，我们得到了以下三个足以颠覆我们初步认知的战略级洞察：\n",
    "1. “超长半径”的商业版图：\n",
    "   * 数据事实: 我们计算出的distance_km（买卖物理距离）的平均值，高达惊人的596公里。\n",
    "   * 商业洞察:\n",
    "     这彻底打破了我们对“本地化电商”的幻想。我们所运营的，是一个以“远距离、跨区域”交易为绝对主流的、“全国性\n",
    "     ”，甚至，“全球性”的商业平台。这个客观事实，是我们理解其“高昂物流成本”与“漫长履约时长”的最根本的前提。\n",
    "2. “跨州交易”的绝对主导：\n",
    "    * 数据事实: 我们创造的is_same_state（是否同州）特征的均值，仅为0.36。\n",
    "    * 商业洞察: 这意味着，我们高达64%的订单，都是需要进行“跨州”的长途运输！这进一步印证了我们商业模式的“广\n",
    "      域性”，也为我们那“平均12.48天”的“高昂时间成本”，提供了最直接的解释。    \n",
    "3. “全球化”的蛛丝马迹：\n",
    "    * 数据事实: distance_km的最大值，达到了恐怖的8677公里。\n",
    "    * 商业洞察: 这个极端异常值，不再是“噪音”。它是一个强烈的信号，暗示着Olist的业务触角，可能已经伸向了海外\n",
    "      。这为我们未来去进行“用户国别分析”或“国际物流挑战”等更宏大的命题，埋下了最有趣的伏笔。  "
   ]
  },
  {
   "cell_type": "code",
   "execution_count": 7,
   "id": "ee84f1dc-ec79-4333-b678-e6c7016fdd70",
   "metadata": {},
   "outputs": [
    {
     "name": "stdout",
     "output_type": "stream",
     "text": [
      "--- “商业微观特征”已成功，创造并聚合！ ---\n",
      "聚合后的订单级宽表维度: (96470, 5)\n",
      "                           order_id  total_weight_g  total_volume_cm3  \\\n",
      "0  00010242fe8c5a6d1ba2dd792cb16214           650.0            3528.0   \n",
      "1  00018f77f2f0320c557190d7a144bdd3         30000.0           60000.0   \n",
      "2  000229ec398224ef6ca0657da4fc703e          3050.0           14157.0   \n",
      "3  00024acbcdf0a6daa1e931b038114c75           200.0            2400.0   \n",
      "4  00042b26cf59d7ce69dfabb4e55b4fd9          3750.0           42000.0   \n",
      "\n",
      "   total_payment_value  total_order_items  \n",
      "0                72.19                1.0  \n",
      "1               259.83                1.0  \n",
      "2               216.87                1.0  \n",
      "3                25.78                1.0  \n",
      "4               218.04                1.0  \n",
      "\n",
      "新特征的统计摘要:\n",
      "       total_weight_g  total_volume_cm3  total_payment_value  \\\n",
      "count    96470.000000      9.647000e+04         96470.000000   \n",
      "mean      2512.791324      1.824703e+04           204.983741   \n",
      "std       5669.329910      3.664595e+04           621.262034   \n",
      "min          0.000000      0.000000e+00             0.000000   \n",
      "25%        300.000000      2.992000e+03            62.660000   \n",
      "50%        767.000000      7.500000e+03           109.500000   \n",
      "75%       2150.000000      2.000000e+04           195.530000   \n",
      "max     362600.000000      3.492720e+06        109312.640000   \n",
      "\n",
      "       total_order_items  \n",
      "count       96470.000000  \n",
      "mean            1.142210  \n",
      "std             0.538824  \n",
      "min             1.000000  \n",
      "25%             1.000000  \n",
      "50%             1.000000  \n",
      "75%             1.000000  \n",
      "max            21.000000  \n"
     ]
    }
   ],
   "source": [
    "df_cleaned['product_volume_cm3'] = df_cleaned['product_length_cm'].fillna(0) * \\\n",
    "                                  df_cleaned['product_height_cm'].fillna(0) * \\\n",
    "                                  df_cleaned['product_width_cm'].fillna(0)\n",
    "#这里要进行数据降维，因为我们的数据粒度是订单-商品-支付，但是在数据拼接的时候发现有一对多的情况，不是单一对应关系\n",
    "agg_logic = {\n",
    "    'product_weight_g': 'sum',\n",
    "    'product_volume_cm3': 'sum',\n",
    "    'payment_value': 'sum',\n",
    "    'order_item_id': 'max'}\n",
    "df_order_aggregated = df_cleaned.groupby('order_id').agg(agg_logic).reset_index()\n",
    "df_order_aggregated.rename(columns={\n",
    "    'product_weight_g': 'total_weight_g',\n",
    "    'product_volume_cm3': 'total_volume_cm3',\n",
    "    'payment_value': 'total_payment_value',\n",
    "    'order_item_id': 'total_order_items'}, inplace=True)\n",
    "print(\"--- “商业微观特征”已成功，创造并聚合！ ---\")\n",
    "print(f\"聚合后的订单级宽表维度: {df_order_aggregated.shape}\")\n",
    "print(df_order_aggregated.head())\n",
    "print(\"\\n新特征的统计摘要:\")\n",
    "print(df_order_aggregated[['total_weight_g', 'total_volume_cm3', 'total_payment_value','total_order_items']].describe())\n",
    "                           "
   ]
  },
  {
   "cell_type": "code",
   "execution_count": 8,
   "id": "0a1976ba-a0d6-4328-950e-231d632399b3",
   "metadata": {},
   "outputs": [
    {
     "name": "stdout",
     "output_type": "stream",
     "text": [
      "--- “究极数据母舰”已，组装，完毕！ ---\n",
      "最终分析宽表的维度: (96470, 19)\n",
      "\n",
      "最终分析宽表，数据信息:\n",
      "<class 'pandas.core.frame.DataFrame'>\n",
      "RangeIndex: 96470 entries, 0 to 96469\n",
      "Data columns (total 19 columns):\n",
      " #   Column                   Non-Null Count  Dtype  \n",
      "---  ------                   --------------  -----  \n",
      " 0   order_id                 96470 non-null  object \n",
      " 1   customer_id              96470 non-null  object \n",
      " 2   customer_unique_id       96470 non-null  object \n",
      " 3   customer_state           96470 non-null  object \n",
      " 4   seller_id                96470 non-null  object \n",
      " 5   seller_state             96470 non-null  object \n",
      " 6   total_wait_time          96470 non-null  float64\n",
      " 7   payment_processing_time  96456 non-null  float64\n",
      " 8   seller_dispatch_time     96455 non-null  float64\n",
      " 9   carrier_delivery_time    96469 non-null  float64\n",
      " 10  purchase_month           96470 non-null  int32  \n",
      " 11  purchase_day_of_week     96470 non-null  int32  \n",
      " 12  purchase_hour            96470 non-null  int32  \n",
      " 13  distance_km              95992 non-null  float64\n",
      " 14  is_same_state            96470 non-null  int64  \n",
      " 15  total_weight_g           96470 non-null  float64\n",
      " 16  total_volume_cm3         96470 non-null  float64\n",
      " 17  total_payment_value      96470 non-null  float64\n",
      " 18  total_order_items        96470 non-null  float64\n",
      "dtypes: float64(9), int32(3), int64(1), object(6)\n",
      "memory usage: 12.9+ MB\n"
     ]
    }
   ],
   "source": [
    "df_order_level_features = df_cleaned[[\n",
    "    'order_id', 'customer_id', 'customer_unique_id', 'customer_state',\n",
    "    'seller_id', 'seller_state',\n",
    "    'total_wait_time', 'payment_processing_time',\n",
    "    'seller_dispatch_time', 'carrier_delivery_time',\n",
    "    'purchase_month', 'purchase_day_of_week', 'purchase_hour',\n",
    "    'distance_km', 'is_same_state']].drop_duplicates(subset=['order_id'])\n",
    "df_final_analysis = pd.merge(\n",
    "    left=df_order_level_features,\n",
    "    right=df_order_aggregated,\n",
    "    on='order_id',\n",
    "    how='inner')\n",
    "print(\"--- “究极数据母舰”已，组装，完毕！ ---\")\n",
    "print(f\"最终分析宽表的维度: {df_final_analysis.shape}\")\n",
    "print(\"\\n最终分析宽表，数据信息:\")\n",
    "df_final_analysis.info()"
   ]
  },
  {
   "cell_type": "code",
   "execution_count": 9,
   "id": "bbbfaecf-0184-426b-89a5-43bc86c98160",
   "metadata": {},
   "outputs": [
    {
     "name": "stdout",
     "output_type": "stream",
     "text": [
      "--- 清洗前，各特征缺失值报告 ---\n",
      "distance_km                478\n",
      "seller_dispatch_time        15\n",
      "payment_processing_time     14\n",
      "carrier_delivery_time        1\n",
      "dtype: int64\n"
     ]
    }
   ],
   "source": [
    "print(\"--- 清洗前，各特征缺失值报告 ---\")\n",
    "missing_values = df_final_analysis.isnull().sum()\n",
    "missing_values = missing_values[missing_values > 0].sort_values(ascending=False)\n",
    "print(missing_values)"
   ]
  },
  {
   "cell_type": "code",
   "execution_count": 10,
   "id": "8ee0994b-20c7-478c-b4e6-a6dbb147b519",
   "metadata": {},
   "outputs": [
    {
     "name": "stdout",
     "output_type": "stream",
     "text": [
      "\n",
      "--- “核心缺失值”处理完毕！ ---\n",
      "处理前，我们的舰队规模为: 96470 行\n",
      "处理后，我们的最终主力舰队规模为: 95977 行\n",
      "\n",
      "处理后，剩余“伤病”（缺失值）报告:\n",
      "Series([], dtype: int64)\n"
     ]
    }
   ],
   "source": [
    "columns_to_drop_na = [\n",
    "    'total_wait_time',\n",
    "    'payment_processing_time',\n",
    "    'seller_dispatch_time',\n",
    "    'carrier_delivery_time',\n",
    "    'distance_km']\n",
    "df_cleaned_final = df_final_analysis.dropna(subset=columns_to_drop_na)\n",
    "print(f\"\\n--- “核心缺失值”处理完毕！ ---\")\n",
    "print(f\"处理前，我们的舰队规模为: {len(df_final_analysis)} 行\")\n",
    "print(f\"处理后，我们的最终主力舰队规模为: {len(df_cleaned_final)} 行\")\n",
    "print(\"\\n处理后，剩余“伤病”（缺失值）报告:\")\n",
    "remaining_missing = df_cleaned_final.isnull().sum()\n",
    "print(remaining_missing[remaining_missing > 0])"
   ]
  },
  {
   "cell_type": "code",
   "execution_count": 11,
   "id": "730ed88d-7c3d-484e-ad00-bf4acb6fe7be",
   "metadata": {},
   "outputs": [
    {
     "name": "stdout",
     "output_type": "stream",
     "text": [
      "--- “最终分析宽表”已，完成“数字化”与“编码”！ ---\n",
      "编码后，我们的特征矩阵X的维度: (95977, 59)\n",
      "\n",
      "编码后，特征矩阵X，数据信息:\n",
      "<class 'pandas.core.frame.DataFrame'>\n",
      "Index: 95977 entries, 0 to 96469\n",
      "Data columns (total 59 columns):\n",
      " #   Column                   Non-Null Count  Dtype  \n",
      "---  ------                   --------------  -----  \n",
      " 0   purchase_month           95977 non-null  int32  \n",
      " 1   purchase_day_of_week     95977 non-null  int32  \n",
      " 2   purchase_hour            95977 non-null  int32  \n",
      " 3   is_same_state            95977 non-null  int64  \n",
      " 4   total_weight_g           95977 non-null  float64\n",
      " 5   total_volume_cm3         95977 non-null  float64\n",
      " 6   total_payment_value      95977 non-null  float64\n",
      " 7   total_order_items        95977 non-null  float64\n",
      " 8   payment_processing_time  95977 non-null  float64\n",
      " 9   seller_dispatch_time     95977 non-null  float64\n",
      " 10  carrier_delivery_time    95977 non-null  float64\n",
      " 11  distance_km              95977 non-null  float64\n",
      " 12  customer_state_AL        95977 non-null  float64\n",
      " 13  customer_state_AM        95977 non-null  float64\n",
      " 14  customer_state_AP        95977 non-null  float64\n",
      " 15  customer_state_BA        95977 non-null  float64\n",
      " 16  customer_state_CE        95977 non-null  float64\n",
      " 17  customer_state_DF        95977 non-null  float64\n",
      " 18  customer_state_ES        95977 non-null  float64\n",
      " 19  customer_state_GO        95977 non-null  float64\n",
      " 20  customer_state_MA        95977 non-null  float64\n",
      " 21  customer_state_MG        95977 non-null  float64\n",
      " 22  customer_state_MS        95977 non-null  float64\n",
      " 23  customer_state_MT        95977 non-null  float64\n",
      " 24  customer_state_PA        95977 non-null  float64\n",
      " 25  customer_state_PB        95977 non-null  float64\n",
      " 26  customer_state_PE        95977 non-null  float64\n",
      " 27  customer_state_PI        95977 non-null  float64\n",
      " 28  customer_state_PR        95977 non-null  float64\n",
      " 29  customer_state_RJ        95977 non-null  float64\n",
      " 30  customer_state_RN        95977 non-null  float64\n",
      " 31  customer_state_RO        95977 non-null  float64\n",
      " 32  customer_state_RR        95977 non-null  float64\n",
      " 33  customer_state_RS        95977 non-null  float64\n",
      " 34  customer_state_SC        95977 non-null  float64\n",
      " 35  customer_state_SE        95977 non-null  float64\n",
      " 36  customer_state_SP        95977 non-null  float64\n",
      " 37  customer_state_TO        95977 non-null  float64\n",
      " 38  seller_state_BA          95977 non-null  float64\n",
      " 39  seller_state_CE          95977 non-null  float64\n",
      " 40  seller_state_DF          95977 non-null  float64\n",
      " 41  seller_state_ES          95977 non-null  float64\n",
      " 42  seller_state_GO          95977 non-null  float64\n",
      " 43  seller_state_MA          95977 non-null  float64\n",
      " 44  seller_state_MG          95977 non-null  float64\n",
      " 45  seller_state_MS          95977 non-null  float64\n",
      " 46  seller_state_MT          95977 non-null  float64\n",
      " 47  seller_state_PA          95977 non-null  float64\n",
      " 48  seller_state_PB          95977 non-null  float64\n",
      " 49  seller_state_PE          95977 non-null  float64\n",
      " 50  seller_state_PI          95977 non-null  float64\n",
      " 51  seller_state_PR          95977 non-null  float64\n",
      " 52  seller_state_RJ          95977 non-null  float64\n",
      " 53  seller_state_RN          95977 non-null  float64\n",
      " 54  seller_state_RO          95977 non-null  float64\n",
      " 55  seller_state_RS          95977 non-null  float64\n",
      " 56  seller_state_SC          95977 non-null  float64\n",
      " 57  seller_state_SE          95977 non-null  float64\n",
      " 58  seller_state_SP          95977 non-null  float64\n",
      "dtypes: float64(55), int32(3), int64(1)\n",
      "memory usage: 42.8 MB\n"
     ]
    }
   ],
   "source": [
    "features_to_encode = [\n",
    "    'customer_state',\n",
    "    'seller_state',\n",
    "    'purchase_month',\n",
    "    'purchase_day_of_week',\n",
    "    'purchase_hour',\n",
    "    'is_same_state',\n",
    "    'total_weight_g',\n",
    "    'total_volume_cm3',\n",
    "    'total_payment_value',\n",
    "    'total_order_items',\n",
    "    'payment_processing_time',\n",
    "    'seller_dispatch_time',\n",
    "    'carrier_delivery_time',\n",
    "    'distance_km']\n",
    "target_variable = 'total_wait_time'\n",
    "X = df_cleaned_final[features_to_encode]\n",
    "y = df_cleaned_final[target_variable]\n",
    "X_encoded = pd.get_dummies(X, drop_first=True, dtype=float)\n",
    "print(\"--- “最终分析宽表”已，完成“数字化”与“编码”！ ---\")\n",
    "print(f\"编码后，我们的特征矩阵X的维度: {X_encoded.shape}\")\n",
    "print(\"\\n编码后，特征矩阵X，数据信息:\")\n",
    "X_encoded.info()"
   ]
  },
  {
   "cell_type": "code",
   "execution_count": 14,
   "id": "2cf9368c-62e4-4568-8404-52c92bc3ca74",
   "metadata": {},
   "outputs": [
    {
     "name": "stderr",
     "output_type": "stream",
     "text": [
      "2025/08/06 03:54:20 INFO mlflow.tracking.fluent: Experiment with name 'Olist_Fulfillment_Time_Prediction' does not exist. Creating a new experiment.\n"
     ]
    },
    {
     "name": "stdout",
     "output_type": "stream",
     "text": [
      "\n",
      "--- 正在召唤‘LightGBM’，并，在‘MLFlow的监督’下，进行‘学习’... ---\n",
      "[LightGBM] [Info] Auto-choosing row-wise multi-threading, the overhead of testing was 0.002103 seconds.\n",
      "You can set `force_row_wise=true` to remove the overhead.\n",
      "And if memory is not enough, you can set `force_col_wise=true`.\n",
      "[LightGBM] [Info] Total Bins 1930\n",
      "[LightGBM] [Info] Number of data points in the train set: 76781, number of used features: 55\n",
      "[LightGBM] [Info] Start training from score 12.551481\n"
     ]
    },
    {
     "name": "stderr",
     "output_type": "stream",
     "text": [
      "2025/08/06 03:54:23 WARNING mlflow.models.model: `artifact_path` is deprecated. Please use `name` instead.\n"
     ]
    },
    {
     "name": "stdout",
     "output_type": "stream",
     "text": [
      "--- “模型”已，完成“学习”！ ---\n",
      "\n",
      "--- 正在，对‘测试集’，进行‘预测’... ---\n",
      "\n",
      "--- “基准模型”性能评估报告 ---\n",
      "平均绝对误差 (MAE): 0.2558 天\n",
      "均方误差 (MSE): 4.9601\n",
      "均方根误差 (RMSE): 2.2271 天\n"
     ]
    },
    {
     "name": "stderr",
     "output_type": "stream",
     "text": [
      "2025/08/06 03:54:36 WARNING mlflow.models.model: Model logged without a signature and input example. Please set `input_example` parameter when logging the model to auto infer the model signature.\n"
     ]
    },
    {
     "name": "stdout",
     "output_type": "stream",
     "text": [
      "\n",
      "--- MLFlow记录仪式，已，全部，完成！---\n",
      "本次实验的所有‘参数’、‘性能’与‘模型’，都，已，被，忠实地，记录在案！\n",
      "您，可以，在‘命令行’中，输入‘mlflow ui’，来，启动‘可视化界面’，进行‘查阅’！\n"
     ]
    }
   ],
   "source": [
    "from sklearn.model_selection import train_test_split\n",
    "from lightgbm import LGBMRegressor\n",
    "from sklearn.metrics import mean_squared_error, mean_absolute_error\n",
    "import numpy as np\n",
    "import mlflow\n",
    "import mlflow.lightgbm\n",
    "mlflow.set_experiment(\"Olist_Fulfillment_Time_Prediction\")\n",
    "with mlflow.start_run(run_name=\"Baseline_LightGBM_Manual_Features\"):\n",
    "    print(\"\\n--- 正在召唤‘LightGBM’，并，在‘MLFlow的监督’下，进行‘学习’... ---\")\n",
    "    params = {\n",
    "        'n_estimators': 1000,\n",
    "        'learning_rate': 0.05,\n",
    "        'num_leaves': 31,\n",
    "        'random_state': 42}\n",
    "    mlflow.log_params(params)\n",
    "    lgbm = LGBMRegressor(**params)\n",
    "    lgbm.fit(X_train, y_train)\n",
    "    print(\"--- “模型”已，完成“学习”！ ---\")\n",
    "    print(\"\\n--- 正在，对‘测试集’，进行‘预测’... ---\")\n",
    "    y_pred = lgbm.predict(X_test)\n",
    "    print(\"\\n--- “基准模型”性能评估报告 ---\")\n",
    "    mae = mean_absolute_error(y_test, y_pred)\n",
    "    mse = mean_squared_error(y_test, y_pred)\n",
    "    rmse = np.sqrt(mse)\n",
    "    mlflow.log_metric(\"mae\", mae)\n",
    "    mlflow.log_metric(\"mse\", mse)\n",
    "    mlflow.log_metric(\"rmse\", rmse)\n",
    "    print(f\"平均绝对误差 (MAE): {mae:.4f} 天\")\n",
    "    print(f\"均方误差 (MSE): {mse:.4f}\")\n",
    "    print(f\"均方根误差 (RMSE): {rmse:.4f} 天\")\n",
    "    mlflow.lightgbm.log_model(lgbm, \"baseline_lgbm_model\")\n",
    "    print(\"\\n--- MLFlow记录仪式，已，全部，完成！---\")\n",
    "    print(f\"本次实验的所有‘参数’、‘性能’与‘模型’，都，已，被，忠实地，记录在案！\")\n",
    "    print(f\"您，可以，在‘命令行’中，输入‘mlflow ui’，来，启动‘可视化界面’，进行‘查阅’！\")"
   ]
  },
  {
   "cell_type": "markdown",
   "id": "3cafac9b-e33a-4698-a11d-3667a656a8e0",
   "metadata": {},
   "source": [
    "惊人的结果，这意味着我们的初步模型已经足够优秀，和实际预测值仅有六小时误差"
   ]
  },
  {
   "cell_type": "code",
   "execution_count": 16,
   "id": "c6b07d22-7d5d-4b97-a5bc-a5fdc0b00d4e",
   "metadata": {},
   "outputs": [
    {
     "name": "stdout",
     "output_type": "stream",
     "text": [
      "--- “自编码器”网络结构预览 ---\n"
     ]
    },
    {
     "data": {
      "text/html": [
       "<pre style=\"white-space:pre;overflow-x:auto;line-height:normal;font-family:Menlo,'DejaVu Sans Mono',consolas,'Courier New',monospace\"><span style=\"font-weight: bold\">Model: \"Autoencoder\"</span>\n",
       "</pre>\n"
      ],
      "text/plain": [
       "\u001b[1mModel: \"Autoencoder\"\u001b[0m\n"
      ]
     },
     "metadata": {},
     "output_type": "display_data"
    },
    {
     "data": {
      "text/html": [
       "<pre style=\"white-space:pre;overflow-x:auto;line-height:normal;font-family:Menlo,'DejaVu Sans Mono',consolas,'Courier New',monospace\">┏━━━━━━━━━━━━━━━━━━━━━━━━━━━━━━━━━━━━━━┳━━━━━━━━━━━━━━━━━━━━━━━━━━━━━┳━━━━━━━━━━━━━━━━━┓\n",
       "┃<span style=\"font-weight: bold\"> Layer (type)                         </span>┃<span style=\"font-weight: bold\"> Output Shape                </span>┃<span style=\"font-weight: bold\">         Param # </span>┃\n",
       "┡━━━━━━━━━━━━━━━━━━━━━━━━━━━━━━━━━━━━━━╇━━━━━━━━━━━━━━━━━━━━━━━━━━━━━╇━━━━━━━━━━━━━━━━━┩\n",
       "│ Encoder_Input (<span style=\"color: #0087ff; text-decoration-color: #0087ff\">InputLayer</span>)           │ (<span style=\"color: #00d7ff; text-decoration-color: #00d7ff\">None</span>, <span style=\"color: #00af00; text-decoration-color: #00af00\">59</span>)                  │               <span style=\"color: #00af00; text-decoration-color: #00af00\">0</span> │\n",
       "├──────────────────────────────────────┼─────────────────────────────┼─────────────────┤\n",
       "│ Encoder_Layer_1 (<span style=\"color: #0087ff; text-decoration-color: #0087ff\">Dense</span>)              │ (<span style=\"color: #00d7ff; text-decoration-color: #00d7ff\">None</span>, <span style=\"color: #00af00; text-decoration-color: #00af00\">32</span>)                  │           <span style=\"color: #00af00; text-decoration-color: #00af00\">1,920</span> │\n",
       "├──────────────────────────────────────┼─────────────────────────────┼─────────────────┤\n",
       "│ Bottleneck (<span style=\"color: #0087ff; text-decoration-color: #0087ff\">Dense</span>)                   │ (<span style=\"color: #00d7ff; text-decoration-color: #00d7ff\">None</span>, <span style=\"color: #00af00; text-decoration-color: #00af00\">10</span>)                  │             <span style=\"color: #00af00; text-decoration-color: #00af00\">330</span> │\n",
       "├──────────────────────────────────────┼─────────────────────────────┼─────────────────┤\n",
       "│ Decoder_Layer_1 (<span style=\"color: #0087ff; text-decoration-color: #0087ff\">Dense</span>)              │ (<span style=\"color: #00d7ff; text-decoration-color: #00d7ff\">None</span>, <span style=\"color: #00af00; text-decoration-color: #00af00\">32</span>)                  │             <span style=\"color: #00af00; text-decoration-color: #00af00\">352</span> │\n",
       "├──────────────────────────────────────┼─────────────────────────────┼─────────────────┤\n",
       "│ Decoder_Output (<span style=\"color: #0087ff; text-decoration-color: #0087ff\">Dense</span>)               │ (<span style=\"color: #00d7ff; text-decoration-color: #00d7ff\">None</span>, <span style=\"color: #00af00; text-decoration-color: #00af00\">59</span>)                  │           <span style=\"color: #00af00; text-decoration-color: #00af00\">1,947</span> │\n",
       "└──────────────────────────────────────┴─────────────────────────────┴─────────────────┘\n",
       "</pre>\n"
      ],
      "text/plain": [
       "┏━━━━━━━━━━━━━━━━━━━━━━━━━━━━━━━━━━━━━━┳━━━━━━━━━━━━━━━━━━━━━━━━━━━━━┳━━━━━━━━━━━━━━━━━┓\n",
       "┃\u001b[1m \u001b[0m\u001b[1mLayer (type)                        \u001b[0m\u001b[1m \u001b[0m┃\u001b[1m \u001b[0m\u001b[1mOutput Shape               \u001b[0m\u001b[1m \u001b[0m┃\u001b[1m \u001b[0m\u001b[1m        Param #\u001b[0m\u001b[1m \u001b[0m┃\n",
       "┡━━━━━━━━━━━━━━━━━━━━━━━━━━━━━━━━━━━━━━╇━━━━━━━━━━━━━━━━━━━━━━━━━━━━━╇━━━━━━━━━━━━━━━━━┩\n",
       "│ Encoder_Input (\u001b[38;5;33mInputLayer\u001b[0m)           │ (\u001b[38;5;45mNone\u001b[0m, \u001b[38;5;34m59\u001b[0m)                  │               \u001b[38;5;34m0\u001b[0m │\n",
       "├──────────────────────────────────────┼─────────────────────────────┼─────────────────┤\n",
       "│ Encoder_Layer_1 (\u001b[38;5;33mDense\u001b[0m)              │ (\u001b[38;5;45mNone\u001b[0m, \u001b[38;5;34m32\u001b[0m)                  │           \u001b[38;5;34m1,920\u001b[0m │\n",
       "├──────────────────────────────────────┼─────────────────────────────┼─────────────────┤\n",
       "│ Bottleneck (\u001b[38;5;33mDense\u001b[0m)                   │ (\u001b[38;5;45mNone\u001b[0m, \u001b[38;5;34m10\u001b[0m)                  │             \u001b[38;5;34m330\u001b[0m │\n",
       "├──────────────────────────────────────┼─────────────────────────────┼─────────────────┤\n",
       "│ Decoder_Layer_1 (\u001b[38;5;33mDense\u001b[0m)              │ (\u001b[38;5;45mNone\u001b[0m, \u001b[38;5;34m32\u001b[0m)                  │             \u001b[38;5;34m352\u001b[0m │\n",
       "├──────────────────────────────────────┼─────────────────────────────┼─────────────────┤\n",
       "│ Decoder_Output (\u001b[38;5;33mDense\u001b[0m)               │ (\u001b[38;5;45mNone\u001b[0m, \u001b[38;5;34m59\u001b[0m)                  │           \u001b[38;5;34m1,947\u001b[0m │\n",
       "└──────────────────────────────────────┴─────────────────────────────┴─────────────────┘\n"
      ]
     },
     "metadata": {},
     "output_type": "display_data"
    },
    {
     "data": {
      "text/html": [
       "<pre style=\"white-space:pre;overflow-x:auto;line-height:normal;font-family:Menlo,'DejaVu Sans Mono',consolas,'Courier New',monospace\"><span style=\"font-weight: bold\"> Total params: </span><span style=\"color: #00af00; text-decoration-color: #00af00\">4,549</span> (17.77 KB)\n",
       "</pre>\n"
      ],
      "text/plain": [
       "\u001b[1m Total params: \u001b[0m\u001b[38;5;34m4,549\u001b[0m (17.77 KB)\n"
      ]
     },
     "metadata": {},
     "output_type": "display_data"
    },
    {
     "data": {
      "text/html": [
       "<pre style=\"white-space:pre;overflow-x:auto;line-height:normal;font-family:Menlo,'DejaVu Sans Mono',consolas,'Courier New',monospace\"><span style=\"font-weight: bold\"> Trainable params: </span><span style=\"color: #00af00; text-decoration-color: #00af00\">4,549</span> (17.77 KB)\n",
       "</pre>\n"
      ],
      "text/plain": [
       "\u001b[1m Trainable params: \u001b[0m\u001b[38;5;34m4,549\u001b[0m (17.77 KB)\n"
      ]
     },
     "metadata": {},
     "output_type": "display_data"
    },
    {
     "data": {
      "text/html": [
       "<pre style=\"white-space:pre;overflow-x:auto;line-height:normal;font-family:Menlo,'DejaVu Sans Mono',consolas,'Courier New',monospace\"><span style=\"font-weight: bold\"> Non-trainable params: </span><span style=\"color: #00af00; text-decoration-color: #00af00\">0</span> (0.00 B)\n",
       "</pre>\n"
      ],
      "text/plain": [
       "\u001b[1m Non-trainable params: \u001b[0m\u001b[38;5;34m0\u001b[0m (0.00 B)\n"
      ]
     },
     "metadata": {},
     "output_type": "display_data"
    },
    {
     "name": "stdout",
     "output_type": "stream",
     "text": [
      "\n",
      "--- 正在训练“自编码器”... 这，可能，需要，几分钟的时间... ---\n",
      "Epoch 1/100\n",
      "\u001b[1m2400/2400\u001b[0m \u001b[32m━━━━━━━━━━━━━━━━━━━━\u001b[0m\u001b[37m\u001b[0m \u001b[1m3s\u001b[0m 917us/step - loss: 0.0165 - val_loss: 0.0060\n",
      "Epoch 2/100\n",
      "\u001b[1m2400/2400\u001b[0m \u001b[32m━━━━━━━━━━━━━━━━━━━━\u001b[0m\u001b[37m\u001b[0m \u001b[1m2s\u001b[0m 838us/step - loss: 0.0046 - val_loss: 0.0040\n",
      "Epoch 3/100\n",
      "\u001b[1m2400/2400\u001b[0m \u001b[32m━━━━━━━━━━━━━━━━━━━━\u001b[0m\u001b[37m\u001b[0m \u001b[1m2s\u001b[0m 836us/step - loss: 0.0036 - val_loss: 0.0034\n",
      "Epoch 4/100\n",
      "\u001b[1m2400/2400\u001b[0m \u001b[32m━━━━━━━━━━━━━━━━━━━━\u001b[0m\u001b[37m\u001b[0m \u001b[1m2s\u001b[0m 852us/step - loss: 0.0033 - val_loss: 0.0033\n",
      "Epoch 5/100\n",
      "\u001b[1m2400/2400\u001b[0m \u001b[32m━━━━━━━━━━━━━━━━━━━━\u001b[0m\u001b[37m\u001b[0m \u001b[1m2s\u001b[0m 846us/step - loss: 0.0033 - val_loss: 0.0033\n",
      "Epoch 6/100\n",
      "\u001b[1m2400/2400\u001b[0m \u001b[32m━━━━━━━━━━━━━━━━━━━━\u001b[0m\u001b[37m\u001b[0m \u001b[1m2s\u001b[0m 849us/step - loss: 0.0033 - val_loss: 0.0033\n",
      "Epoch 7/100\n",
      "\u001b[1m2400/2400\u001b[0m \u001b[32m━━━━━━━━━━━━━━━━━━━━\u001b[0m\u001b[37m\u001b[0m \u001b[1m2s\u001b[0m 854us/step - loss: 0.0032 - val_loss: 0.0032\n",
      "Epoch 8/100\n",
      "\u001b[1m2400/2400\u001b[0m \u001b[32m━━━━━━━━━━━━━━━━━━━━\u001b[0m\u001b[37m\u001b[0m \u001b[1m2s\u001b[0m 854us/step - loss: 0.0032 - val_loss: 0.0032\n",
      "Epoch 9/100\n",
      "\u001b[1m2400/2400\u001b[0m \u001b[32m━━━━━━━━━━━━━━━━━━━━\u001b[0m\u001b[37m\u001b[0m \u001b[1m2s\u001b[0m 845us/step - loss: 0.0032 - val_loss: 0.0031\n",
      "Epoch 10/100\n",
      "\u001b[1m2400/2400\u001b[0m \u001b[32m━━━━━━━━━━━━━━━━━━━━\u001b[0m\u001b[37m\u001b[0m \u001b[1m2s\u001b[0m 821us/step - loss: 0.0031 - val_loss: 0.0030\n",
      "Epoch 11/100\n",
      "\u001b[1m2400/2400\u001b[0m \u001b[32m━━━━━━━━━━━━━━━━━━━━\u001b[0m\u001b[37m\u001b[0m \u001b[1m2s\u001b[0m 853us/step - loss: 0.0030 - val_loss: 0.0030\n",
      "Epoch 12/100\n",
      "\u001b[1m2400/2400\u001b[0m \u001b[32m━━━━━━━━━━━━━━━━━━━━\u001b[0m\u001b[37m\u001b[0m \u001b[1m2s\u001b[0m 864us/step - loss: 0.0030 - val_loss: 0.0030\n",
      "Epoch 13/100\n",
      "\u001b[1m2400/2400\u001b[0m \u001b[32m━━━━━━━━━━━━━━━━━━━━\u001b[0m\u001b[37m\u001b[0m \u001b[1m2s\u001b[0m 842us/step - loss: 0.0030 - val_loss: 0.0030\n",
      "Epoch 14/100\n",
      "\u001b[1m2400/2400\u001b[0m \u001b[32m━━━━━━━━━━━━━━━━━━━━\u001b[0m\u001b[37m\u001b[0m \u001b[1m2s\u001b[0m 878us/step - loss: 0.0030 - val_loss: 0.0030\n",
      "Epoch 15/100\n",
      "\u001b[1m2400/2400\u001b[0m \u001b[32m━━━━━━━━━━━━━━━━━━━━\u001b[0m\u001b[37m\u001b[0m \u001b[1m2s\u001b[0m 855us/step - loss: 0.0030 - val_loss: 0.0030\n",
      "Epoch 16/100\n",
      "\u001b[1m2400/2400\u001b[0m \u001b[32m━━━━━━━━━━━━━━━━━━━━\u001b[0m\u001b[37m\u001b[0m \u001b[1m2s\u001b[0m 828us/step - loss: 0.0030 - val_loss: 0.0030\n",
      "Epoch 17/100\n",
      "\u001b[1m2400/2400\u001b[0m \u001b[32m━━━━━━━━━━━━━━━━━━━━\u001b[0m\u001b[37m\u001b[0m \u001b[1m3s\u001b[0m 833us/step - loss: 0.0029 - val_loss: 0.0029\n",
      "Epoch 18/100\n",
      "\u001b[1m2400/2400\u001b[0m \u001b[32m━━━━━━━━━━━━━━━━━━━━\u001b[0m\u001b[37m\u001b[0m \u001b[1m2s\u001b[0m 892us/step - loss: 0.0029 - val_loss: 0.0029\n",
      "Epoch 19/100\n",
      "\u001b[1m2400/2400\u001b[0m \u001b[32m━━━━━━━━━━━━━━━━━━━━\u001b[0m\u001b[37m\u001b[0m \u001b[1m2s\u001b[0m 831us/step - loss: 0.0029 - val_loss: 0.0029\n",
      "Epoch 20/100\n",
      "\u001b[1m2400/2400\u001b[0m \u001b[32m━━━━━━━━━━━━━━━━━━━━\u001b[0m\u001b[37m\u001b[0m \u001b[1m2s\u001b[0m 846us/step - loss: 0.0029 - val_loss: 0.0029\n",
      "Epoch 21/100\n",
      "\u001b[1m2400/2400\u001b[0m \u001b[32m━━━━━━━━━━━━━━━━━━━━\u001b[0m\u001b[37m\u001b[0m \u001b[1m2s\u001b[0m 868us/step - loss: 0.0029 - val_loss: 0.0028\n",
      "Epoch 22/100\n",
      "\u001b[1m2400/2400\u001b[0m \u001b[32m━━━━━━━━━━━━━━━━━━━━\u001b[0m\u001b[37m\u001b[0m \u001b[1m2s\u001b[0m 829us/step - loss: 0.0028 - val_loss: 0.0028\n",
      "Epoch 23/100\n",
      "\u001b[1m2400/2400\u001b[0m \u001b[32m━━━━━━━━━━━━━━━━━━━━\u001b[0m\u001b[37m\u001b[0m \u001b[1m3s\u001b[0m 887us/step - loss: 0.0028 - val_loss: 0.0029\n",
      "Epoch 24/100\n",
      "\u001b[1m2400/2400\u001b[0m \u001b[32m━━━━━━━━━━━━━━━━━━━━\u001b[0m\u001b[37m\u001b[0m \u001b[1m2s\u001b[0m 853us/step - loss: 0.0028 - val_loss: 0.0028\n",
      "Epoch 25/100\n",
      "\u001b[1m2400/2400\u001b[0m \u001b[32m━━━━━━━━━━━━━━━━━━━━\u001b[0m\u001b[37m\u001b[0m \u001b[1m2s\u001b[0m 864us/step - loss: 0.0026 - val_loss: 0.0024\n",
      "Epoch 26/100\n",
      "\u001b[1m2400/2400\u001b[0m \u001b[32m━━━━━━━━━━━━━━━━━━━━\u001b[0m\u001b[37m\u001b[0m \u001b[1m2s\u001b[0m 857us/step - loss: 0.0022 - val_loss: 0.0021\n",
      "Epoch 27/100\n",
      "\u001b[1m2400/2400\u001b[0m \u001b[32m━━━━━━━━━━━━━━━━━━━━\u001b[0m\u001b[37m\u001b[0m \u001b[1m2s\u001b[0m 837us/step - loss: 0.0021 - val_loss: 0.0021\n",
      "Epoch 28/100\n",
      "\u001b[1m2400/2400\u001b[0m \u001b[32m━━━━━━━━━━━━━━━━━━━━\u001b[0m\u001b[37m\u001b[0m \u001b[1m2s\u001b[0m 858us/step - loss: 0.0021 - val_loss: 0.0021\n",
      "Epoch 29/100\n",
      "\u001b[1m2400/2400\u001b[0m \u001b[32m━━━━━━━━━━━━━━━━━━━━\u001b[0m\u001b[37m\u001b[0m \u001b[1m2s\u001b[0m 826us/step - loss: 0.0020 - val_loss: 0.0021\n",
      "Epoch 30/100\n",
      "\u001b[1m2400/2400\u001b[0m \u001b[32m━━━━━━━━━━━━━━━━━━━━\u001b[0m\u001b[37m\u001b[0m \u001b[1m2s\u001b[0m 831us/step - loss: 0.0020 - val_loss: 0.0021\n",
      "Epoch 31/100\n",
      "\u001b[1m2400/2400\u001b[0m \u001b[32m━━━━━━━━━━━━━━━━━━━━\u001b[0m\u001b[37m\u001b[0m \u001b[1m2s\u001b[0m 813us/step - loss: 0.0020 - val_loss: 0.0021\n",
      "Epoch 32/100\n",
      "\u001b[1m2400/2400\u001b[0m \u001b[32m━━━━━━━━━━━━━━━━━━━━\u001b[0m\u001b[37m\u001b[0m \u001b[1m2s\u001b[0m 826us/step - loss: 0.0020 - val_loss: 0.0020\n",
      "Epoch 33/100\n",
      "\u001b[1m2400/2400\u001b[0m \u001b[32m━━━━━━━━━━━━━━━━━━━━\u001b[0m\u001b[37m\u001b[0m \u001b[1m2s\u001b[0m 810us/step - loss: 0.0020 - val_loss: 0.0020\n",
      "Epoch 34/100\n",
      "\u001b[1m2400/2400\u001b[0m \u001b[32m━━━━━━━━━━━━━━━━━━━━\u001b[0m\u001b[37m\u001b[0m \u001b[1m2s\u001b[0m 826us/step - loss: 0.0020 - val_loss: 0.0020\n",
      "Epoch 35/100\n",
      "\u001b[1m2400/2400\u001b[0m \u001b[32m━━━━━━━━━━━━━━━━━━━━\u001b[0m\u001b[37m\u001b[0m \u001b[1m2s\u001b[0m 836us/step - loss: 0.0020 - val_loss: 0.0020\n",
      "Epoch 36/100\n",
      "\u001b[1m2400/2400\u001b[0m \u001b[32m━━━━━━━━━━━━━━━━━━━━\u001b[0m\u001b[37m\u001b[0m \u001b[1m2s\u001b[0m 834us/step - loss: 0.0020 - val_loss: 0.0020\n",
      "Epoch 37/100\n",
      "\u001b[1m2400/2400\u001b[0m \u001b[32m━━━━━━━━━━━━━━━━━━━━\u001b[0m\u001b[37m\u001b[0m \u001b[1m2s\u001b[0m 819us/step - loss: 0.0020 - val_loss: 0.0020\n",
      "Epoch 38/100\n",
      "\u001b[1m2400/2400\u001b[0m \u001b[32m━━━━━━━━━━━━━━━━━━━━\u001b[0m\u001b[37m\u001b[0m \u001b[1m2s\u001b[0m 850us/step - loss: 0.0020 - val_loss: 0.0020\n",
      "Epoch 39/100\n",
      "\u001b[1m2400/2400\u001b[0m \u001b[32m━━━━━━━━━━━━━━━━━━━━\u001b[0m\u001b[37m\u001b[0m \u001b[1m2s\u001b[0m 817us/step - loss: 0.0020 - val_loss: 0.0020\n",
      "Epoch 40/100\n",
      "\u001b[1m2400/2400\u001b[0m \u001b[32m━━━━━━━━━━━━━━━━━━━━\u001b[0m\u001b[37m\u001b[0m \u001b[1m2s\u001b[0m 826us/step - loss: 0.0020 - val_loss: 0.0020\n",
      "Epoch 41/100\n",
      "\u001b[1m2400/2400\u001b[0m \u001b[32m━━━━━━━━━━━━━━━━━━━━\u001b[0m\u001b[37m\u001b[0m \u001b[1m2s\u001b[0m 826us/step - loss: 0.0020 - val_loss: 0.0020\n",
      "Epoch 42/100\n",
      "\u001b[1m2400/2400\u001b[0m \u001b[32m━━━━━━━━━━━━━━━━━━━━\u001b[0m\u001b[37m\u001b[0m \u001b[1m2s\u001b[0m 832us/step - loss: 0.0020 - val_loss: 0.0019\n",
      "Epoch 43/100\n",
      "\u001b[1m2400/2400\u001b[0m \u001b[32m━━━━━━━━━━━━━━━━━━━━\u001b[0m\u001b[37m\u001b[0m \u001b[1m2s\u001b[0m 820us/step - loss: 0.0019 - val_loss: 0.0019\n",
      "Epoch 44/100\n",
      "\u001b[1m2400/2400\u001b[0m \u001b[32m━━━━━━━━━━━━━━━━━━━━\u001b[0m\u001b[37m\u001b[0m \u001b[1m2s\u001b[0m 829us/step - loss: 0.0018 - val_loss: 0.0018\n",
      "Epoch 45/100\n",
      "\u001b[1m2400/2400\u001b[0m \u001b[32m━━━━━━━━━━━━━━━━━━━━\u001b[0m\u001b[37m\u001b[0m \u001b[1m2s\u001b[0m 841us/step - loss: 0.0017 - val_loss: 0.0017\n",
      "Epoch 46/100\n",
      "\u001b[1m2400/2400\u001b[0m \u001b[32m━━━━━━━━━━━━━━━━━━━━\u001b[0m\u001b[37m\u001b[0m \u001b[1m2s\u001b[0m 846us/step - loss: 0.0017 - val_loss: 0.0017\n",
      "Epoch 47/100\n",
      "\u001b[1m2400/2400\u001b[0m \u001b[32m━━━━━━━━━━━━━━━━━━━━\u001b[0m\u001b[37m\u001b[0m \u001b[1m2s\u001b[0m 833us/step - loss: 0.0016 - val_loss: 0.0016\n",
      "Epoch 48/100\n",
      "\u001b[1m2400/2400\u001b[0m \u001b[32m━━━━━━━━━━━━━━━━━━━━\u001b[0m\u001b[37m\u001b[0m \u001b[1m2s\u001b[0m 846us/step - loss: 0.0016 - val_loss: 0.0016\n",
      "Epoch 49/100\n",
      "\u001b[1m2400/2400\u001b[0m \u001b[32m━━━━━━━━━━━━━━━━━━━━\u001b[0m\u001b[37m\u001b[0m \u001b[1m2s\u001b[0m 832us/step - loss: 0.0016 - val_loss: 0.0016\n",
      "Epoch 50/100\n",
      "\u001b[1m2400/2400\u001b[0m \u001b[32m━━━━━━━━━━━━━━━━━━━━\u001b[0m\u001b[37m\u001b[0m \u001b[1m2s\u001b[0m 854us/step - loss: 0.0016 - val_loss: 0.0016\n",
      "Epoch 51/100\n",
      "\u001b[1m2400/2400\u001b[0m \u001b[32m━━━━━━━━━━━━━━━━━━━━\u001b[0m\u001b[37m\u001b[0m \u001b[1m2s\u001b[0m 834us/step - loss: 0.0015 - val_loss: 0.0015\n",
      "Epoch 52/100\n",
      "\u001b[1m2400/2400\u001b[0m \u001b[32m━━━━━━━━━━━━━━━━━━━━\u001b[0m\u001b[37m\u001b[0m \u001b[1m2s\u001b[0m 816us/step - loss: 0.0015 - val_loss: 0.0016\n",
      "Epoch 53/100\n",
      "\u001b[1m2400/2400\u001b[0m \u001b[32m━━━━━━━━━━━━━━━━━━━━\u001b[0m\u001b[37m\u001b[0m \u001b[1m2s\u001b[0m 829us/step - loss: 0.0015 - val_loss: 0.0016\n",
      "Epoch 54/100\n",
      "\u001b[1m2400/2400\u001b[0m \u001b[32m━━━━━━━━━━━━━━━━━━━━\u001b[0m\u001b[37m\u001b[0m \u001b[1m2s\u001b[0m 837us/step - loss: 0.0015 - val_loss: 0.0016\n",
      "Epoch 55/100\n",
      "\u001b[1m2400/2400\u001b[0m \u001b[32m━━━━━━━━━━━━━━━━━━━━\u001b[0m\u001b[37m\u001b[0m \u001b[1m2s\u001b[0m 824us/step - loss: 0.0015 - val_loss: 0.0015\n",
      "Epoch 56/100\n",
      "\u001b[1m2400/2400\u001b[0m \u001b[32m━━━━━━━━━━━━━━━━━━━━\u001b[0m\u001b[37m\u001b[0m \u001b[1m2s\u001b[0m 829us/step - loss: 0.0015 - val_loss: 0.0015\n",
      "Epoch 57/100\n",
      "\u001b[1m2400/2400\u001b[0m \u001b[32m━━━━━━━━━━━━━━━━━━━━\u001b[0m\u001b[37m\u001b[0m \u001b[1m2s\u001b[0m 856us/step - loss: 0.0015 - val_loss: 0.0015\n",
      "Epoch 58/100\n",
      "\u001b[1m2400/2400\u001b[0m \u001b[32m━━━━━━━━━━━━━━━━━━━━\u001b[0m\u001b[37m\u001b[0m \u001b[1m3s\u001b[0m 842us/step - loss: 0.0015 - val_loss: 0.0014\n",
      "Epoch 59/100\n",
      "\u001b[1m2400/2400\u001b[0m \u001b[32m━━━━━━━━━━━━━━━━━━━━\u001b[0m\u001b[37m\u001b[0m \u001b[1m2s\u001b[0m 833us/step - loss: 0.0013 - val_loss: 0.0013\n",
      "Epoch 60/100\n",
      "\u001b[1m2400/2400\u001b[0m \u001b[32m━━━━━━━━━━━━━━━━━━━━\u001b[0m\u001b[37m\u001b[0m \u001b[1m2s\u001b[0m 844us/step - loss: 0.0013 - val_loss: 0.0013\n",
      "Epoch 61/100\n",
      "\u001b[1m2400/2400\u001b[0m \u001b[32m━━━━━━━━━━━━━━━━━━━━\u001b[0m\u001b[37m\u001b[0m \u001b[1m2s\u001b[0m 834us/step - loss: 0.0013 - val_loss: 0.0013\n",
      "Epoch 62/100\n",
      "\u001b[1m2400/2400\u001b[0m \u001b[32m━━━━━━━━━━━━━━━━━━━━\u001b[0m\u001b[37m\u001b[0m \u001b[1m2s\u001b[0m 958us/step - loss: 0.0013 - val_loss: 0.0013\n",
      "Epoch 63/100\n",
      "\u001b[1m2400/2400\u001b[0m \u001b[32m━━━━━━━━━━━━━━━━━━━━\u001b[0m\u001b[37m\u001b[0m \u001b[1m2s\u001b[0m 828us/step - loss: 0.0013 - val_loss: 0.0013\n",
      "Epoch 64/100\n",
      "\u001b[1m2400/2400\u001b[0m \u001b[32m━━━━━━━━━━━━━━━━━━━━\u001b[0m\u001b[37m\u001b[0m \u001b[1m3s\u001b[0m 834us/step - loss: 0.0013 - val_loss: 0.0013\n",
      "Epoch 65/100\n",
      "\u001b[1m2400/2400\u001b[0m \u001b[32m━━━━━━━━━━━━━━━━━━━━\u001b[0m\u001b[37m\u001b[0m \u001b[1m2s\u001b[0m 844us/step - loss: 0.0012 - val_loss: 0.0013\n",
      "Epoch 66/100\n",
      "\u001b[1m2400/2400\u001b[0m \u001b[32m━━━━━━━━━━━━━━━━━━━━\u001b[0m\u001b[37m\u001b[0m \u001b[1m3s\u001b[0m 834us/step - loss: 0.0012 - val_loss: 0.0012\n",
      "Epoch 67/100\n",
      "\u001b[1m2400/2400\u001b[0m \u001b[32m━━━━━━━━━━━━━━━━━━━━\u001b[0m\u001b[37m\u001b[0m \u001b[1m2s\u001b[0m 834us/step - loss: 0.0011 - val_loss: 0.0011\n",
      "Epoch 68/100\n",
      "\u001b[1m2400/2400\u001b[0m \u001b[32m━━━━━━━━━━━━━━━━━━━━\u001b[0m\u001b[37m\u001b[0m \u001b[1m3s\u001b[0m 829us/step - loss: 0.0011 - val_loss: 0.0011\n",
      "Epoch 69/100\n",
      "\u001b[1m2400/2400\u001b[0m \u001b[32m━━━━━━━━━━━━━━━━━━━━\u001b[0m\u001b[37m\u001b[0m \u001b[1m2s\u001b[0m 832us/step - loss: 0.0011 - val_loss: 0.0011\n",
      "Epoch 70/100\n",
      "\u001b[1m2400/2400\u001b[0m \u001b[32m━━━━━━━━━━━━━━━━━━━━\u001b[0m\u001b[37m\u001b[0m \u001b[1m2s\u001b[0m 821us/step - loss: 0.0011 - val_loss: 0.0011\n",
      "Epoch 71/100\n",
      "\u001b[1m2400/2400\u001b[0m \u001b[32m━━━━━━━━━━━━━━━━━━━━\u001b[0m\u001b[37m\u001b[0m \u001b[1m2s\u001b[0m 825us/step - loss: 0.0011 - val_loss: 0.0012\n",
      "Epoch 72/100\n",
      "\u001b[1m2400/2400\u001b[0m \u001b[32m━━━━━━━━━━━━━━━━━━━━\u001b[0m\u001b[37m\u001b[0m \u001b[1m2s\u001b[0m 832us/step - loss: 0.0011 - val_loss: 0.0011\n",
      "Epoch 73/100\n",
      "\u001b[1m2400/2400\u001b[0m \u001b[32m━━━━━━━━━━━━━━━━━━━━\u001b[0m\u001b[37m\u001b[0m \u001b[1m2s\u001b[0m 816us/step - loss: 0.0011 - val_loss: 0.0011\n",
      "\n",
      "--- “自编码器”已，完成“训练”！ ---\n"
     ]
    }
   ],
   "source": [
    "from tensorflow.keras.models import Model\n",
    "from tensorflow.keras.layers import Input, Dense\n",
    "from tensorflow.keras.callbacks import EarlyStopping\n",
    "from sklearn.preprocessing import MinMaxScaler\n",
    "scaler = MinMaxScaler()\n",
    "X_train_scaled = scaler.fit_transform(X_train)\n",
    "X_test_scaled = scaler.transform(X_test)\n",
    "input_dim = X_train_scaled.shape[1]\n",
    "encoding_dim = 10\n",
    "input_layer = Input(shape=(input_dim,), name=\"Encoder_Input\")\n",
    "encoder_layer_1 = Dense(32, activation='relu', name=\"Encoder_Layer_1\")(input_layer)\n",
    "bottleneck_layer = Dense(encoding_dim, activation='relu', name=\"Bottleneck\")(encoder_layer_1)\n",
    "decoder_layer_1 = Dense(32, activation='relu', name=\"Decoder_Layer_1\")(bottleneck_layer)\n",
    "output_layer = Dense(input_dim, activation='sigmoid', name=\"Decoder_Output\")(decoder_layer_1)\n",
    "autoencoder = Model(inputs=input_layer, outputs=output_layer, name=\"Autoencoder\")\n",
    "autoencoder.compile(optimizer='adam', loss='mean_squared_error')\n",
    "print(\"--- “自编码器”网络结构预览 ---\")\n",
    "autoencoder.summary()\n",
    "print(\"\\n--- 正在训练“自编码器”... 这，可能，需要，几分钟的时间... ---\")\n",
    "early_stopping = EarlyStopping(monitor='val_loss', patience=5, restore_best_weights=True)\n",
    "autoencoder.fit(\n",
    "    X_train_scaled, X_train_scaled,\n",
    "    epochs=100,\n",
    "    batch_size=32,\n",
    "    shuffle=True,\n",
    "    validation_data=(X_test_scaled, X_test_scaled),\n",
    "    callbacks=[early_stopping],\n",
    "    verbose=1)\n",
    "print(\"\\n--- “自编码器”已，完成“训练”！ ---\")"
   ]
  },
  {
   "cell_type": "code",
   "execution_count": 18,
   "id": "ad81314c-aa8f-482e-82e3-a472d36d1b0e",
   "metadata": {},
   "outputs": [
    {
     "name": "stdout",
     "output_type": "stream",
     "text": [
      "--- “编码器（特征提取器）”网络结构预览 ---\n"
     ]
    },
    {
     "data": {
      "text/html": [
       "<pre style=\"white-space:pre;overflow-x:auto;line-height:normal;font-family:Menlo,'DejaVu Sans Mono',consolas,'Courier New',monospace\"><span style=\"font-weight: bold\">Model: \"Encoder\"</span>\n",
       "</pre>\n"
      ],
      "text/plain": [
       "\u001b[1mModel: \"Encoder\"\u001b[0m\n"
      ]
     },
     "metadata": {},
     "output_type": "display_data"
    },
    {
     "data": {
      "text/html": [
       "<pre style=\"white-space:pre;overflow-x:auto;line-height:normal;font-family:Menlo,'DejaVu Sans Mono',consolas,'Courier New',monospace\">┏━━━━━━━━━━━━━━━━━━━━━━━━━━━━━━━━━━━━━━┳━━━━━━━━━━━━━━━━━━━━━━━━━━━━━┳━━━━━━━━━━━━━━━━━┓\n",
       "┃<span style=\"font-weight: bold\"> Layer (type)                         </span>┃<span style=\"font-weight: bold\"> Output Shape                </span>┃<span style=\"font-weight: bold\">         Param # </span>┃\n",
       "┡━━━━━━━━━━━━━━━━━━━━━━━━━━━━━━━━━━━━━━╇━━━━━━━━━━━━━━━━━━━━━━━━━━━━━╇━━━━━━━━━━━━━━━━━┩\n",
       "│ Encoder_Input (<span style=\"color: #0087ff; text-decoration-color: #0087ff\">InputLayer</span>)           │ (<span style=\"color: #00d7ff; text-decoration-color: #00d7ff\">None</span>, <span style=\"color: #00af00; text-decoration-color: #00af00\">59</span>)                  │               <span style=\"color: #00af00; text-decoration-color: #00af00\">0</span> │\n",
       "├──────────────────────────────────────┼─────────────────────────────┼─────────────────┤\n",
       "│ Encoder_Layer_1 (<span style=\"color: #0087ff; text-decoration-color: #0087ff\">Dense</span>)              │ (<span style=\"color: #00d7ff; text-decoration-color: #00d7ff\">None</span>, <span style=\"color: #00af00; text-decoration-color: #00af00\">32</span>)                  │           <span style=\"color: #00af00; text-decoration-color: #00af00\">1,920</span> │\n",
       "├──────────────────────────────────────┼─────────────────────────────┼─────────────────┤\n",
       "│ Bottleneck (<span style=\"color: #0087ff; text-decoration-color: #0087ff\">Dense</span>)                   │ (<span style=\"color: #00d7ff; text-decoration-color: #00d7ff\">None</span>, <span style=\"color: #00af00; text-decoration-color: #00af00\">10</span>)                  │             <span style=\"color: #00af00; text-decoration-color: #00af00\">330</span> │\n",
       "└──────────────────────────────────────┴─────────────────────────────┴─────────────────┘\n",
       "</pre>\n"
      ],
      "text/plain": [
       "┏━━━━━━━━━━━━━━━━━━━━━━━━━━━━━━━━━━━━━━┳━━━━━━━━━━━━━━━━━━━━━━━━━━━━━┳━━━━━━━━━━━━━━━━━┓\n",
       "┃\u001b[1m \u001b[0m\u001b[1mLayer (type)                        \u001b[0m\u001b[1m \u001b[0m┃\u001b[1m \u001b[0m\u001b[1mOutput Shape               \u001b[0m\u001b[1m \u001b[0m┃\u001b[1m \u001b[0m\u001b[1m        Param #\u001b[0m\u001b[1m \u001b[0m┃\n",
       "┡━━━━━━━━━━━━━━━━━━━━━━━━━━━━━━━━━━━━━━╇━━━━━━━━━━━━━━━━━━━━━━━━━━━━━╇━━━━━━━━━━━━━━━━━┩\n",
       "│ Encoder_Input (\u001b[38;5;33mInputLayer\u001b[0m)           │ (\u001b[38;5;45mNone\u001b[0m, \u001b[38;5;34m59\u001b[0m)                  │               \u001b[38;5;34m0\u001b[0m │\n",
       "├──────────────────────────────────────┼─────────────────────────────┼─────────────────┤\n",
       "│ Encoder_Layer_1 (\u001b[38;5;33mDense\u001b[0m)              │ (\u001b[38;5;45mNone\u001b[0m, \u001b[38;5;34m32\u001b[0m)                  │           \u001b[38;5;34m1,920\u001b[0m │\n",
       "├──────────────────────────────────────┼─────────────────────────────┼─────────────────┤\n",
       "│ Bottleneck (\u001b[38;5;33mDense\u001b[0m)                   │ (\u001b[38;5;45mNone\u001b[0m, \u001b[38;5;34m10\u001b[0m)                  │             \u001b[38;5;34m330\u001b[0m │\n",
       "└──────────────────────────────────────┴─────────────────────────────┴─────────────────┘\n"
      ]
     },
     "metadata": {},
     "output_type": "display_data"
    },
    {
     "data": {
      "text/html": [
       "<pre style=\"white-space:pre;overflow-x:auto;line-height:normal;font-family:Menlo,'DejaVu Sans Mono',consolas,'Courier New',monospace\"><span style=\"font-weight: bold\"> Total params: </span><span style=\"color: #00af00; text-decoration-color: #00af00\">2,250</span> (8.79 KB)\n",
       "</pre>\n"
      ],
      "text/plain": [
       "\u001b[1m Total params: \u001b[0m\u001b[38;5;34m2,250\u001b[0m (8.79 KB)\n"
      ]
     },
     "metadata": {},
     "output_type": "display_data"
    },
    {
     "data": {
      "text/html": [
       "<pre style=\"white-space:pre;overflow-x:auto;line-height:normal;font-family:Menlo,'DejaVu Sans Mono',consolas,'Courier New',monospace\"><span style=\"font-weight: bold\"> Trainable params: </span><span style=\"color: #00af00; text-decoration-color: #00af00\">2,250</span> (8.79 KB)\n",
       "</pre>\n"
      ],
      "text/plain": [
       "\u001b[1m Trainable params: \u001b[0m\u001b[38;5;34m2,250\u001b[0m (8.79 KB)\n"
      ]
     },
     "metadata": {},
     "output_type": "display_data"
    },
    {
     "data": {
      "text/html": [
       "<pre style=\"white-space:pre;overflow-x:auto;line-height:normal;font-family:Menlo,'DejaVu Sans Mono',consolas,'Courier New',monospace\"><span style=\"font-weight: bold\"> Non-trainable params: </span><span style=\"color: #00af00; text-decoration-color: #00af00\">0</span> (0.00 B)\n",
       "</pre>\n"
      ],
      "text/plain": [
       "\u001b[1m Non-trainable params: \u001b[0m\u001b[38;5;34m0\u001b[0m (0.00 B)\n"
      ]
     },
     "metadata": {},
     "output_type": "display_data"
    },
    {
     "name": "stdout",
     "output_type": "stream",
     "text": [
      "\u001b[1m2400/2400\u001b[0m \u001b[32m━━━━━━━━━━━━━━━━━━━━\u001b[0m\u001b[37m\u001b[0m \u001b[1m1s\u001b[0m 413us/step\n",
      "\u001b[1m600/600\u001b[0m \u001b[32m━━━━━━━━━━━━━━━━━━━━\u001b[0m\u001b[37m\u001b[0m \u001b[1m0s\u001b[0m 441us/step\n",
      "\n",
      "--- “神级特征”已，成功，提取！ ---\n",
      "原始训练集特征维度: (76781, 59)\n",
      "提取后的神级特征维度: (76781, 10)\n",
      "\n",
      "神级特征（前5行）预览:\n",
      "           0         1         2          3          4    5          6  \\\n",
      "0   2.026418  8.920732  3.599184  10.311538  10.316717  0.0   9.350719   \n",
      "1   4.240238  4.772567  7.750415   7.243033   4.772855  0.0  10.204630   \n",
      "2  11.111782  8.507308  6.096081   5.641565   8.534621  0.0  14.207093   \n",
      "3   3.785465  7.779017  5.559419  12.288781   8.915378  0.0   5.787151   \n",
      "4  10.255264  6.155926  1.358073  11.344276   8.120808  0.0   7.956497   \n",
      "\n",
      "           7         8          9  \n",
      "0  10.675953  8.727247   4.805638  \n",
      "1   4.269438  1.291077  23.755634  \n",
      "2   8.841950  4.070943   1.706980  \n",
      "3  13.122069  9.165938   1.698428  \n",
      "4   6.325791  3.755145   4.562996  \n"
     ]
    }
   ],
   "source": [
    "encoder = Model(inputs=autoencoder.input, outputs=autoencoder.get_layer('Bottleneck').output,name=\"Encoder\")\n",
    "print(\"--- “编码器（特征提取器）”网络结构预览 ---\")\n",
    "encoder.summary()\n",
    "X_train_encoded_features = encoder.predict(X_train_scaled)\n",
    "X_test_encoded_features = encoder.predict(X_test_scaled)\n",
    "print(\"\\n--- “神级特征”已，成功，提取！ ---\")\n",
    "print(f\"原始训练集特征维度: {X_train_scaled.shape}\")\n",
    "print(f\"提取后的神级特征维度: {X_train_encoded_features.shape}\")\n",
    "print(\"\\n神级特征（前5行）预览:\")\n",
    "import pandas as pd\n",
    "print(pd.DataFrame(X_train_encoded_features).head())"
   ]
  },
  {
   "cell_type": "code",
   "execution_count": 19,
   "id": "05974f7d-7751-4591-938a-2f62510fe0f0",
   "metadata": {},
   "outputs": [
    {
     "name": "stdout",
     "output_type": "stream",
     "text": [
      "--- “究极特征军团”，已，组建完毕！ ---\n",
      "究极训练集维度: (76781, 69)\n",
      "\n",
      "--- 正在召唤‘王者模型’，并，开始，最终的‘学习’... ---\n",
      "[LightGBM] [Info] Auto-choosing row-wise multi-threading, the overhead of testing was 0.002625 seconds.\n",
      "You can set `force_row_wise=true` to remove the overhead.\n",
      "And if memory is not enough, you can set `force_col_wise=true`.\n",
      "[LightGBM] [Info] Total Bins 4225\n",
      "[LightGBM] [Info] Number of data points in the train set: 76781, number of used features: 64\n",
      "[LightGBM] [Info] Start training from score 12.551481\n"
     ]
    },
    {
     "name": "stderr",
     "output_type": "stream",
     "text": [
      "2025/08/06 04:28:48 WARNING mlflow.models.model: `artifact_path` is deprecated. Please use `name` instead.\n"
     ]
    },
    {
     "name": "stdout",
     "output_type": "stream",
     "text": [
      "--- “王者模型”已，完成“学习”！ ---\n",
      "\n",
      "--- 正在，对‘测试集’，进行‘最终预测’... ---\n",
      "\n",
      "--- “王者模型”性能评估报告 ---\n",
      "王者模型的平均绝对误差 (MAE): 0.2179 天\n",
      "\n",
      "--- 最终对决结果 ---\n",
      "基准模型 MAE: 0.2558 天\n",
      "王者模型 MAE: 0.2179 天\n",
      "性能提升百分比: 14.80%！\n"
     ]
    },
    {
     "name": "stderr",
     "output_type": "stream",
     "text": [
      "2025/08/06 04:28:52 WARNING mlflow.models.model: Model logged without a signature and input example. Please set `input_example` parameter when logging the model to auto infer the model signature.\n"
     ]
    }
   ],
   "source": [
    "import numpy as np\n",
    "import pandas as pd\n",
    "from lightgbm import LGBMRegressor\n",
    "from sklearn.metrics import mean_absolute_error\n",
    "import mlflow\n",
    "import mlflow.lightgbm\n",
    "df_X_train_encoded_features = pd.DataFrame(X_train_encoded_features, index=X_train.index,\n",
    "                                           columns=[f\"autoencoder_{i}\" for i in range(10)])\n",
    "df_X_test_encoded_features = pd.DataFrame(X_test_encoded_features, index=X_test.index, columns=[\n",
    "                                           f\"autoencoder_{i}\" for i in range(10)])\n",
    "X_train_ultimate = pd.concat([X_train, df_X_train_encoded_features], axis=1)\n",
    "X_test_ultimate = pd.concat([X_test, df_X_test_encoded_features], axis=1)\n",
    "print(\"--- “究极特征军团”，已，组建完毕！ ---\")\n",
    "print(f\"究极训练集维度: {X_train_ultimate.shape}\")\n",
    "with mlflow.start_run(run_name=\"LGBM_With_Autoencoder_Features\"):\n",
    "    print(\"\\n--- 正在召唤‘王者模型’，并，开始，最终的‘学习’... ---\")\n",
    "    params = {\n",
    "        'n_estimators': 1000,\n",
    "        'learning_rate': 0.03,\n",
    "        'num_leaves': 41,\n",
    "        'random_state': 42\n",
    "    }\n",
    "    mlflow.log_params(params)\n",
    "    mlflow.log_param(\"features_used\", \"manual_and_autoencoder\")\n",
    "    lgbm_ultimate = LGBMRegressor(**params)\n",
    "    lgbm_ultimate.fit(X_train_ultimate, y_train)\n",
    "    print(\"--- “王者模型”已，完成“学习”！ ---\")\n",
    "    print(\"\\n--- 正在，对‘测试集’，进行‘最终预测’... ---\")\n",
    "    y_pred_ultimate = lgbm_ultimate.predict(X_test_ultimate)\n",
    "    print(\"\\n--- “王者模型”性能评估报告 ---\")\n",
    "    mae_ultimate = mean_absolute_error(y_test, y_pred_ultimate)\n",
    "    mlflow.log_metric(\"mae\", mae_ultimate)\n",
    "    print(f\"王者模型的平均绝对误差 (MAE): {mae_ultimate:.4f} 天\")\n",
    "    baseline_mae = 0.2558\n",
    "    improvement = ((baseline_mae - mae_ultimate) / baseline_mae) * 100\n",
    "    print(f\"\\n--- 最终对决结果 ---\")\n",
    "    print(f\"基准模型 MAE: {baseline_mae:.4f} 天\")\n",
    "    print(f\"王者模型 MAE: {mae_ultimate:.4f} 天\")\n",
    "    print(f\"性能提升百分比: {improvement:.2f}%！\")\n",
    "    mlflow.lightgbm.log_model(lgbm_ultimate, \"ultimate_lgbm_model\")"
   ]
  },
  {
   "cell_type": "markdown",
   "id": "49fa4cf7-a12c-4bdb-9af9-86c805984ff8",
   "metadata": {},
   "source": [
    "我们把6小时的误差通过深度学习特征提取压低到了5.2小时，精度再次提升！"
   ]
  }
 ],
 "metadata": {
  "kernelspec": {
   "display_name": "Python 3 (ipykernel)",
   "language": "python",
   "name": "python3"
  },
  "language_info": {
   "codemirror_mode": {
    "name": "ipython",
    "version": 3
   },
   "file_extension": ".py",
   "mimetype": "text/x-python",
   "name": "python",
   "nbconvert_exporter": "python",
   "pygments_lexer": "ipython3",
   "version": "3.13.2"
  }
 },
 "nbformat": 4,
 "nbformat_minor": 5
}
